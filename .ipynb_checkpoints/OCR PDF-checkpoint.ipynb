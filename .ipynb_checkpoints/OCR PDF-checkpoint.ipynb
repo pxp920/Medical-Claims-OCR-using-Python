{
 "cells": [
  {
   "cell_type": "code",
   "execution_count": 1,
   "metadata": {},
   "outputs": [],
   "source": [
    "import pytesseract\n",
    "from PIL import Image as IMG\n",
    "from PIL import Image\n",
    "import cv2\n",
    "from wand.image import Image\n",
    "import PythonMagick\n",
    "import pandas as pd\n",
    "import operator\n",
    "import functools\n",
    "import csv\n",
    "from openpyxl import Workbook, load_workbook\n",
    "from openpyxl.utils.dataframe import dataframe_to_rows\n",
    "import numpy as np\n",
    "import math\n",
    "from matplotlib import pyplot as plt\n",
    "import os\n",
    "import xlsxwriter\n",
    "import glob\n",
    "import xlrd"
   ]
  },
  {
   "cell_type": "code",
   "execution_count": 2,
   "metadata": {},
   "outputs": [],
   "source": [
    "# Choose PDF series to convert to images - parse the images page by page\n",
    "pdfclaimtoconvert = \"SLOAN image\"\n",
    "\n",
    "with(Image(filename=pdfclaimtoconvert+\".pdf\",resolution=200)) as source:\n",
    "    images=source.sequence\n",
    "    pages=len(images)\n",
    "    for i in range(pages):\n",
    "        Image(images[i]).save(filename='Cropped Images/'+pdfclaimtoconvert+str(i)+'.tiff')"
   ]
  },
  {
   "cell_type": "code",
   "execution_count": 3,
   "metadata": {},
   "outputs": [],
   "source": [
    "# Select page number to parse text from\n",
    "pagenumber = str(0)\n",
    "filetoworkon = 'Cropped Images/'+pdfclaimtoconvert+pagenumber+'.tiff'\n",
    "\n",
    "# Open and save using open cv2 - otherwise CV can't open tiff file\n",
    "image = cv2.imread(filetoworkon)\n",
    "cv2.imwrite(\"test.tiff\",image)\n",
    "\n",
    "# Convert to Black and White - slide pixels to the closest white or red\n",
    "col = IMG.open(\"test.tiff\")\n",
    "gray = col.convert('L')\n",
    "bw = gray.point(lambda x: 0 if x<128 else 255, '1')\n",
    "bw.save(\"Black and White Claim.tiff\")"
   ]
  },
  {
   "cell_type": "code",
   "execution_count": 13,
   "metadata": {},
   "outputs": [
    {
     "data": {
      "text/plain": [
       "-1"
      ]
     },
     "execution_count": 13,
     "metadata": {},
     "output_type": "execute_result"
    }
   ],
   "source": [
    "# Testing\n",
    "##\n",
    "# img = cv2.imread('test.tiff')\n",
    "    \n",
    "# crop_img = img[600:1340, 620:900]\n",
    "\n",
    "# cv2.imshow('image',crop_img)\n",
    "# cv2.waitKey(0)"
   ]
  },
  {
   "cell_type": "code",
   "execution_count": 4,
   "metadata": {
    "scrolled": true
   },
   "outputs": [],
   "source": [
    "# Create dictionary with crop specifications for each field of interest\n",
    "DictionaryOfCrops ={}\n",
    "DictionaryOfCrops[\"Claim Address\"] = (20, 170, 20, 530)\n",
    "DictionaryOfCrops[\"Patient Control Number\"] = (20, 75, 1070, 1580)\n",
    "DictionaryOfCrops[\"Medical Record\"] = (75, 105, 1070, 1400)\n",
    "DictionaryOfCrops[\"Type of Bill\"] = (75, 105, 1563, 1650)\n",
    "DictionaryOfCrops[\"Fed Tax Number\"] = (130, 175, 1015, 1220)\n",
    "DictionaryOfCrops[\"Statement From\"] = (135, 175, 1220, 1360)\n",
    "DictionaryOfCrops[\"Statement To\"] = (135, 175, 1365, 1510)\n",
    "DictionaryOfCrops[\"Patient Name\"] = (200, 240, 20, 530)\n",
    "DictionaryOfCrops[\"Patient Birth Date\"] = (260, 310, 20, 205)\n",
    "DictionaryOfCrops[\"ConditionCode18\"] = (260, 310, 680, 742)\n",
    "DictionaryOfCrops[\"ConditionCode19\"] = (260, 310, 742, 802)\n",
    "DictionaryOfCrops[\"ConditionCode20\"] = (260, 310, 802, 862)\n",
    "DictionaryOfCrops[\"ConditionCode21\"] = (260, 310, 862, 922)\n",
    "DictionaryOfCrops[\"ConditionCode22\"] = (260, 310, 922, 982)\n",
    "DictionaryOfCrops[\"ConditionCode23\"] = (260, 310, 982, 1042)\n",
    "DictionaryOfCrops[\"ConditionCode24\"] = (260, 310, 1042, 1102)\n",
    "DictionaryOfCrops[\"ConditionCode25\"] = (260, 310, 1102, 1162)\n",
    "DictionaryOfCrops[\"ConditionCode26\"] = (260, 310, 1162, 1222)\n",
    "DictionaryOfCrops[\"ConditionCode27\"] = (260, 310, 1222, 1282)\n",
    "DictionaryOfCrops[\"ConditionCode28\"] = (260, 310, 1282, 1342)\n",
    "DictionaryOfCrops[\"Payer Address\"] = (400, 570, 20, 860)\n",
    "DictionaryOfCrops[\"Value Codes Amounts 39 - Code\"] = (440, 570, 880, 940)\n",
    "DictionaryOfCrops[\"Value Codes Amounts 39 - Amount\"] = (440, 570, 940, 1090)\n",
    "DictionaryOfCrops[\"Value Codes Amounts 39 - Decimals\"] = (440, 570, 1090, 1142)\n",
    "DictionaryOfCrops[\"Value Codes Amounts 40 - Code\"] = (440, 570, 1142, 1200)\n",
    "DictionaryOfCrops[\"Value Codes Amounts 40 - Amount\"] = (440, 570, 1200, 1365)\n",
    "DictionaryOfCrops[\"Value Codes Amounts 40 - Decimals\"] = (440, 570, 1365, 1403)\n",
    "DictionaryOfCrops[\"Value Codes Amounts 41 - Code\"] = (440, 570, 1403, 1460)\n",
    "DictionaryOfCrops[\"Value Codes Amounts 41 - Amount\"] = (440, 570, 1461, 1620)\n",
    "DictionaryOfCrops[\"Value Codes Amounts 41 - Decimals\"] = (440, 570, 1620, 1665)\n",
    "DictionaryOfCrops[\"Revenue Codes\"] = (600, 1340, 20, 120)\n",
    "DictionaryOfCrops[\"Treatment Descriptions\"] = (600, 1340, 121, 620)\n",
    "DictionaryOfCrops[\"HCPC Codes\"] = (600, 1340, 620, 900)\n",
    "DictionaryOfCrops[\"Service Dates\"] = (600, 1340, 910, 1059)\n",
    "DictionaryOfCrops[\"Service Units\"] = (600, 1340, 1059, 1220)\n",
    "DictionaryOfCrops[\"Service Charges\"] = (600, 1340, 1214, 1365)\n",
    "DictionaryOfCrops[\"Service Charges Decimals\"] = (600, 1340, 1355, 1420)\n",
    "DictionaryOfCrops[\"Pages Number\"] = (1340, 1372, 130, 280)\n",
    "DictionaryOfCrops[\"Pages Total Number\"] = (1340, 1372, 280, 500)\n",
    "DictionaryOfCrops[\"Creation Date\"] = (1340, 1372, 905, 1100)\n",
    "DictionaryOfCrops[\"Total Value\"] = (1338, 1372, 1200, 1355)\n",
    "DictionaryOfCrops[\"Total Value Decimals\"] = (1338, 1372, 1355, 1410)\n",
    "DictionaryOfCrops[\"Payer Name\"] = (1400, 1510, 20, 480)\n",
    "DictionaryOfCrops[\"Document Control No\"] = (1662, 1700, 630, 1160)\n",
    "DictionaryOfCrops[\"DX Code\"] = (1766, 1802, 193, 355)\n",
    "DictionaryOfCrops[\"Physician Last\"] = (1900, 1936, 1020, 1375)\n",
    "DictionaryOfCrops[\"Physician First\"] = (1900, 1936, 1375, 1660)\n",
    "\n",
    "# Iterate through each field, crop and save image\n",
    "img = cv2.imread('Black and White Claim.tiff')\n",
    "for key in DictionaryOfCrops:\n",
    "    crop_img = img[DictionaryOfCrops[key][0]:DictionaryOfCrops[key][1], DictionaryOfCrops[key][2]:DictionaryOfCrops[key][3]] \n",
    "    cv2.imwrite(\"Cropped Images/Cropped_\"+key+\".tiff\", crop_img)\n",
    "    \n",
    "# Create two tuples, one for fields with strict numerical expectation and one for string expectation\n",
    "StringFieldList = (\"Claim Address\",\"Patient Name\",\"Payer Address\",\"Treatment Descriptions\",\"Payer Name\",\"Physician Last\",\n",
    "                   \"Physician First\",\"DX Code\",\"HCPC Codes\")\n",
    "NumericFieldList = (\"Patient Control Number\",\"Medical Record\",\"Type of Bill\",\"Fed Tax Number\",\"Statement From\",\n",
    "                   \"Statement To\",\"Patient Birth Date\",\"ConditionCode18\",\"ConditionCode19\",\"ConditionCode20\",\n",
    "                   \"ConditionCode21\",\"ConditionCode22\",\"ConditionCode23\",\"ConditionCode24\",\"ConditionCode25\",\n",
    "                   \"ConditionCode26\",\"ConditionCode27\",\"ConditionCode28\",\"Value Codes Amounts 39 - Code\",\n",
    "                   \"Value Codes Amounts 39 - Amount\",\"Value Codes Amounts 39 - Decimals\",\"Value Codes Amounts 40 - Code\",\n",
    "                   \"Value Codes Amounts 40 - Amount\",\"Value Codes Amounts 40 - Decimals\",\"Value Codes Amounts 41 - Code\",\n",
    "                   \"Value Codes Amounts 41 - Amount\",\"Value Codes Amounts 41 - Decimals\",\"Revenue Codes\",\n",
    "                   \"Service Dates\",\"Service Units\",\"Service Charges\",\"Service Charges Decimals\",\"Pages Number\",\n",
    "                   \"Pages Total Number\",\"Creation Date\",\"Total Value\",\"Total Value Decimals\",\"Document Control No\")\n",
    "\n",
    "# Create OCR Extraction Dictionary, run tesseract OCR through each of our lists\n",
    "TesseractExtracts = {}\n",
    "\n",
    "for value in StringFieldList:\n",
    "    img = IMG.open('Cropped Images/Cropped_'+value+'.tiff')\n",
    "    img.load()\n",
    "    TesseractExtracts[value] = pytesseract.image_to_string(img,config='-psm 6')\n",
    "    \n",
    "for value in NumericFieldList:\n",
    "    img = IMG.open('Cropped Images/Cropped_'+value+'.tiff')\n",
    "    img.load()\n",
    "    TesseractExtracts[value] = pytesseract.image_to_string(img,config='-c tessedit_char_whitelist=0123456789 -psm 6')\n",
    "\n",
    "# Split OCR extracts by page break\n",
    "for values in TesseractExtracts:\n",
    "    TesseractExtracts[values] = TesseractExtracts[values].split('\\n')\n",
    "    \n",
    "# Delete list items with empty content\n",
    "for values in TesseractExtracts:\n",
    "    TesseractExtracts[values] = [i for i in TesseractExtracts[values] if i != '']\n",
    "    \n",
    "# Create a list with fields that text should be single sentences\n",
    "CollapsableFields = (\"Claim Address\",\"Payer Address\",\"Payer Name\")\n",
    "CollapsedTesseractExtracts = {}\n",
    "\n",
    "# Flatten single sentences and join with 'space'\n",
    "for values in TesseractExtracts:\n",
    "    if values in CollapsableFields:\n",
    "        CollapsedTesseractExtracts[values] = ' '.join(TesseractExtracts[values])\n",
    "    else:\n",
    "        CollapsedTesseractExtracts[values] = TesseractExtracts[values]"
   ]
  },
  {
   "cell_type": "code",
   "execution_count": 15,
   "metadata": {},
   "outputs": [],
   "source": [
    "#Create empty Pandas Dataframe\n",
    "extractionframe = pd.DataFrame(columns=[\"Claim Address\",\"Patient Control Number\",\"Medical Record\",\"Type of Bill\",\n",
    "                                        \"Fed Tax Number\",\"Statement From\",\"Statement To\",\"Patient Name\",\n",
    "                                        \"Patient Birth Date\",\"ConditionCode18\",\"ConditionCode19\",\"ConditionCode20\",\n",
    "                                        \"ConditionCode21\",\"ConditionCode22\",\"ConditionCode23\",\"ConditionCode24\",\n",
    "                                        \"ConditionCode25\",\"ConditionCode26\",\"ConditionCode27\",\"ConditionCode28\",\n",
    "                                        \"Payer Address\",\"Value Codes Amounts 39 - Code\",\"Value Codes Amounts 39 - Amount\",\n",
    "                                        \"Value Codes Amounts 39 - Decimals\",\"Value Codes Amounts 40 - Code\",\n",
    "                                        \"Value Codes Amounts 40 - Amount\",\"Value Codes Amounts 40 - Decimals\",\n",
    "                                        \"Value Codes Amounts 41 - Code\",\"Value Codes Amounts 41 - Amount\",\n",
    "                                        \"Value Codes Amounts 41 - Decimals\",\"Revenue Codes\",\"Treatment Descriptions\",\n",
    "                                        \"HCPC Codes\", \"Service Dates\",\"Service Units\",\"Service Charges\",\n",
    "                                        \"Service Charges Decimals\", \"Pages Number\",\"Pages Total Number\",\"Creation Date\",\n",
    "                                        \"Total Value\", \"Total Value Decimals\",\"Payer Name\",\"Document Control No\",\"DX Code\",\n",
    "                                        \"Physician Last\",\"Physician First\"])\n",
    "\n",
    "# Populate dataframe\n",
    "for values in CollapsedTesseractExtracts:\n",
    "        if isinstance(CollapsedTesseractExtracts[values], list) is False:\n",
    "            try:\n",
    "                extractionframe.loc[1,values] = CollapsedTesseractExtracts[values]\n",
    "            except:\n",
    "                pass\n",
    "        else:\n",
    "            for i in range(len(CollapsedTesseractExtracts[values])):\n",
    "                         extractionframe.loc[i+1,values] = CollapsedTesseractExtracts[values][i]\n",
    "\n",
    "# Populate document and page\n",
    "extractionframe.loc[1,'document'] = pdfclaimtoconvert \n",
    "extractionframe.loc[1,'source'] = 'page_' + pagenumber\n",
    "                    \n",
    "# Forward Fill NaN values\n",
    "extractionframe = extractionframe.fillna(method='ffill')\n",
    "\n",
    "# Replace NaN with empty string\n",
    "extractionframe = extractionframe.replace(np.nan, '', regex=True)"
   ]
  },
  {
   "cell_type": "code",
   "execution_count": 5,
   "metadata": {},
   "outputs": [],
   "source": [
    "#extractionframe"
   ]
  },
  {
   "cell_type": "code",
   "execution_count": 17,
   "metadata": {},
   "outputs": [
    {
     "name": "stdout",
     "output_type": "stream",
     "text": [
      "['Output', 'Claim Mockup', 'Non-Billing', 'Billing', 'Help Sheet']\n"
     ]
    },
    {
     "name": "stderr",
     "output_type": "stream",
     "text": [
      "c:\\users\\panagiotis.pantazis\\appdata\\local\\programs\\python\\python36\\lib\\site-packages\\openpyxl\\reader\\worksheet.py:312: UserWarning: Data Validation extension is not supported and will be removed\n",
      "  warn(msg)\n"
     ]
    }
   ],
   "source": [
    "# Current Directory\n",
    "cwd = os.getcwd()\n",
    "\n",
    "# List all files and directories in current directory\n",
    "os.listdir('.')\n",
    "\n",
    "# Load Workbook\n",
    "workbook = load_workbook('Claim Data Extractions VBA2.xlsm', keep_vba = True)\n",
    "print(workbook.sheetnames)\n",
    "\n",
    "# Select Outputsheet\n",
    "output_sheet = workbook['Output']\n",
    "\n",
    "# Append Results\n",
    "for row in dataframe_to_rows(extractionframe, index=False, header=False):\n",
    "    output_sheet.append(row)\n",
    "\n",
    "workbook.save('Claim Data Extractions VBA2.xlsm')"
   ]
  },
  {
   "cell_type": "code",
   "execution_count": 421,
   "metadata": {},
   "outputs": [
    {
     "name": "stdout",
     "output_type": "stream",
     "text": [
      "['Cropped Images\\\\Cropped_Claim Address.tiff', 'Cropped Images\\\\Cropped_ConditionCode18.tiff', 'Cropped Images\\\\Cropped_ConditionCode19.tiff', 'Cropped Images\\\\Cropped_ConditionCode20.tiff', 'Cropped Images\\\\Cropped_ConditionCode21.tiff', 'Cropped Images\\\\Cropped_ConditionCode22.tiff', 'Cropped Images\\\\Cropped_ConditionCode23.tiff', 'Cropped Images\\\\Cropped_ConditionCode24.tiff', 'Cropped Images\\\\Cropped_ConditionCode25.tiff', 'Cropped Images\\\\Cropped_ConditionCode26.tiff', 'Cropped Images\\\\Cropped_ConditionCode27.tiff', 'Cropped Images\\\\Cropped_ConditionCode28.tiff', 'Cropped Images\\\\Cropped_Creation Date.tiff', 'Cropped Images\\\\Cropped_Document Control No.tiff', 'Cropped Images\\\\Cropped_DX Code.tiff', 'Cropped Images\\\\Cropped_Fed Tax Number.tiff', 'Cropped Images\\\\Cropped_Medical Record.tiff', 'Cropped Images\\\\Cropped_Pages Number.tiff', 'Cropped Images\\\\Cropped_Pages Total Number.tiff', 'Cropped Images\\\\Cropped_Patient Birth Date.tiff', 'Cropped Images\\\\Cropped_Patient Control Number.tiff', 'Cropped Images\\\\Cropped_Patient Name.tiff', 'Cropped Images\\\\Cropped_Payer Address.tiff', 'Cropped Images\\\\Cropped_Payer Name.tiff', 'Cropped Images\\\\Cropped_Physician First.tiff', 'Cropped Images\\\\Cropped_Physician Last.tiff', 'Cropped Images\\\\Cropped_Revenue Codes.tiff', 'Cropped Images\\\\Cropped_Service Charges Decimals.tiff', 'Cropped Images\\\\Cropped_Service Charges.tiff', 'Cropped Images\\\\Cropped_Service Dates.tiff', 'Cropped Images\\\\Cropped_Service Units.tiff', 'Cropped Images\\\\Cropped_Statement From.tiff', 'Cropped Images\\\\Cropped_Statement To.tiff', 'Cropped Images\\\\Cropped_Total Value Decimals.tiff', 'Cropped Images\\\\Cropped_Total Value.tiff', 'Cropped Images\\\\Cropped_Treatment Descriptions.tiff', 'Cropped Images\\\\Cropped_Type of Bill.tiff', 'Cropped Images\\\\Cropped_Value Codes Amounts 39 - Amount.tiff', 'Cropped Images\\\\Cropped_Value Codes Amounts 39 - Code.tiff', 'Cropped Images\\\\Cropped_Value Codes Amounts 39 - Decimals.tiff', 'Cropped Images\\\\Cropped_Value Codes Amounts 40 - Amount.tiff', 'Cropped Images\\\\Cropped_Value Codes Amounts 40 - Code.tiff', 'Cropped Images\\\\Cropped_Value Codes Amounts 40 - Decimals.tiff', 'Cropped Images\\\\Cropped_Value Codes Amounts 41 - Amount.tiff', 'Cropped Images\\\\Cropped_Value Codes Amounts 41 - Code.tiff', 'Cropped Images\\\\Cropped_Value Codes Amounts 41 - Decimals.tiff', 'Cropped Images\\\\SLOAN image0.tiff', 'Cropped Images\\\\SLOAN image1.tiff', 'Cropped Images\\\\SLOAN image2.tiff', 'Cropped Images\\\\SLOAN image3.tiff', 'Cropped Images\\\\SLOAN image4.tiff', 'Cropped Images\\\\SLOAN image5.tiff', 'Cropped Images\\\\SLOAN image6.tiff', 'Cropped Images\\\\Test Image0.tiff', 'Cropped Images\\\\test1.tiff', 'Cropped Images\\\\test10.tiff', 'Cropped Images\\\\test11.tiff', 'Cropped Images\\\\test12.tiff', 'Cropped Images\\\\test13.tiff', 'Cropped Images\\\\test14.tiff', 'Cropped Images\\\\test15.tiff', 'Cropped Images\\\\test16.tiff', 'Cropped Images\\\\test17.tiff', 'Cropped Images\\\\test18.tiff', 'Cropped Images\\\\test19.tiff', 'Cropped Images\\\\test2.tiff', 'Cropped Images\\\\test20.tiff', 'Cropped Images\\\\test28.tiff', 'Cropped Images\\\\test29.tiff', 'Cropped Images\\\\test3.tiff', 'Cropped Images\\\\test30.tiff', 'Cropped Images\\\\test31.tiff', 'Cropped Images\\\\test32.tiff', 'Cropped Images\\\\test33.tiff', 'Cropped Images\\\\test34.tiff', 'Cropped Images\\\\test35.tiff', 'Cropped Images\\\\test36.tiff', 'Cropped Images\\\\test4.tiff', 'Cropped Images\\\\test40.tiff', 'Cropped Images\\\\test41.tiff', 'Cropped Images\\\\test42.tiff', 'Cropped Images\\\\test43.tiff', 'Cropped Images\\\\test44.tiff', 'Cropped Images\\\\test5.tiff', 'Cropped Images\\\\test6.tiff', 'Cropped Images\\\\test7.tiff', 'Cropped Images\\\\test8.tiff', 'Cropped Images\\\\test9.tiff']\n"
     ]
    }
   ],
   "source": [
    "# Clear working files\n",
    "files = glob.glob('Cropped Images/*')\n",
    "print(files)\n",
    "for f in files:\n",
    "    os.remove(f)"
   ]
  },
  {
   "cell_type": "code",
   "execution_count": null,
   "metadata": {},
   "outputs": [],
   "source": []
  }
 ],
 "metadata": {
  "kernelspec": {
   "display_name": "Python 3",
   "language": "python",
   "name": "python3"
  },
  "language_info": {
   "codemirror_mode": {
    "name": "ipython",
    "version": 3
   },
   "file_extension": ".py",
   "mimetype": "text/x-python",
   "name": "python",
   "nbconvert_exporter": "python",
   "pygments_lexer": "ipython3",
   "version": "3.6.2"
  }
 },
 "nbformat": 4,
 "nbformat_minor": 2
}
